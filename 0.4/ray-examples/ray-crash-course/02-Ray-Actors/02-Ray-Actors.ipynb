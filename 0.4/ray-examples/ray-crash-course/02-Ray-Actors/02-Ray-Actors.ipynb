{
 "cells": [
  {
   "cell_type": "markdown",
   "metadata": {},
   "source": [
    "# Ray Crash Course - Actors\n",
    "\n",
    "© 2019-2021, Anyscale. All Rights Reserved\n",
    "\n",
    "![Anyscale Academy](../images/AnyscaleAcademyLogo.png)\n",
    "\n",
    "Using Ray _tasks_ is great for distributing work around a cluster, but we've said nothing so far about managing distributed _state_, one of the big challenges in distributed computing. Ray tasks are great for _stateless_ computation, but we need something for _stateful_ computation. \n",
    "\n",
    "Python classes are a familiar mechanism for encapsulating state. Just as Ray tasks extend the familiar concept of Python _functions_, Ray addresses stateful computation by extending _classes_ to become Ray _actors_. \n",
    "\n",
    "> **Tip:** For more about Ray, see [ray.io](https://ray.io) or the [Ray documentation](https://docs.ray.io/en/latest/)."
   ]
  },
  {
   "cell_type": "markdown",
   "metadata": {},
   "source": [
    "## What We Mean by Distributed State\n",
    "\n",
    "If you've worked with data processing libraries like [Pandas](https://pandas.pydata.org/) or big data tools like [Apache Spark](https://spark.apache.org), you know that they provide rich features for manipulating large, structured _data sets_, i.e., the analogs of tables in a database. Some tools even support partitioning of these data sets over clusters for scalability.\n",
    "\n",
    "This isn't the kind of distributed \"state\" Ray addresses. Instead, it's the more open-ended _graph of objects_ found in more general-purpose applications. For example, it could be the state of a game engine used in a reinforcement learning (RL) application or the total set of parameters in a giant neural network, some of which now have hundreds of millions of parameters."
   ]
  },
  {
   "cell_type": "markdown",
   "metadata": {},
   "source": [
    "## Conway's Game of Life\n",
    "\n",
    "Let's explore Ray's actor model using [Conway's Game of Life](https://en.wikipedia.org/wiki/Conway's_Game_of_Life), a famous _cellular automaton_.\n",
    "\n",
    "Here is an example of a notable pattern of game evolution, _Gospers glider gun_: \n",
    "\n",
    "![Example Gospers glider gun](../images/Gospers_glider_gun.gif)\n",
    "\n",
    "(credit: Lucas Vieira - Own work, CC BY-SA 3.0, https://commons.wikimedia.org/w/index.php?curid=101736)\n",
    "\n",
    "We'll use an implementation of Conway's Game of Life as a nontrivial example of maintaining state, the current grid of living and dead cells. We'll see how to leverage Ray to scale it.\n",
    "\n",
    "> **Note:** Sadly, [John Horton Conway](https://en.wikipedia.org/wiki/John_Horton_Conway), the inventor of this automaton, passed away from COVID-19 on April 11, 2020. This lesson is dedicated to Professor Conway."
   ]
  },
  {
   "cell_type": "markdown",
   "metadata": {},
   "source": [
    "Let's start with some imports"
   ]
  },
  {
   "cell_type": "code",
   "execution_count": null,
   "metadata": {},
   "outputs": [],
   "source": [
    "import ray, time, statistics, sys, os\n",
    "import numpy as np\n",
    "import os\n",
    "sys.path.append(\"..\")         # For library helper functions"
   ]
  },
  {
   "cell_type": "markdown",
   "metadata": {},
   "source": [
    "I've never seen this done anywhere else, but our implementation of Game of Life doesn't just use `1` for living cells, it uses the number of iterations they've been alive, so `1-N`. I'll exploit this when we graph the game."
   ]
  },
  {
   "cell_type": "code",
   "execution_count": null,
   "metadata": {},
   "outputs": [],
   "source": [
    "from game_of_life import Game, State, ConwaysRules"
   ]
  },
  {
   "cell_type": "markdown",
   "metadata": {},
   "source": [
    "Utility functions for plotting using Holoviews and Bokeh, as well as running and timing games."
   ]
  },
  {
   "cell_type": "code",
   "execution_count": null,
   "metadata": {},
   "outputs": [],
   "source": [
    "from actor_lesson_util import new_game_of_life_graph, new_game_of_life_grid, run_games, run_ray_games, show_cmap"
   ]
  },
  {
   "cell_type": "markdown",
   "metadata": {},
   "source": [
    "The implementation is a bit long, so all the code is contained in [`game_of_life.py`](game_of_life.py). \n",
    "\n",
    "(You can also run that file as a standalone script from the command line, try `python game_of_life.py --help`. On MacOS and Linux machines, the script is executable, so you can omit the `python`)."
   ]
  },
  {
   "cell_type": "markdown",
   "metadata": {},
   "source": [
    "The first class is the `State`, which encapsulates the board state as an `N x N` grid of _cells_, where `N` is specified by the user. (For simplicity, we just use square grids.) There are two ways to initialize the game, specifying a starting grid or a size, in which case the cells are set randomly. The sample below just shows the size option. `State` instances are _immutable_, because the `Game` (discussed below) keeps a sequence of them, representing the lifetime states of the game.\n",
    "\n",
    "For smaller grids, it's often possible that the game reaches a terminal state where it stops evolving. Larger grids are more likely to exhibit different cyclic patterns that would evolve forever, thereby making those runs appear to be _immortal_, except they eventually get disrupted by evolving neighbors. \n",
    "\n",
    "```python\n",
    "class State:\n",
    "    def __init__(self, size = 10):  \n",
    "        # The version in the file also lets you pass in a grid of initial cells.\n",
    "        self.size = size\n",
    "        self.grid = np.random.randint(2, size = size*size).reshape((size, size))\n",
    "\n",
    "    def living_cells(self):\n",
    "        cells = [(i,j) for i in range(self.size) for j in range(self.size) if self.grid[i][j] != 0]\n",
    "        return zip(*cells)\n",
    "```"
   ]
  },
  {
   "cell_type": "markdown",
   "metadata": {},
   "source": [
    "Next, `ConwaysRules` encapsulates the logic of computing the new state of a game from the current state, using the update rules defined as follows:\n",
    "\n",
    "* Any live cell with fewer than two live neighbours dies, as if by underpopulation.\n",
    "* Any live cell with two or three live neighbours lives on to the next generation.\n",
    "* Any live cell with more than three live neighbours dies, as if by overpopulation.\n",
    "* Any dead cell with exactly three live neighbours becomes a live cell, as if by reproduction.\n",
    "\n",
    "This class is stateless; `step()` is passed a `State` instance and it returns a new instance for the udpated state.\n",
    "\n",
    "```python\n",
    "class ConwaysRules:\n",
    "    def step(self, state):\n",
    "        \"\"\"\n",
    "        Determine the next values for all the cells, based on the current\n",
    "        state. Creates a new State with the changes.\n",
    "        \"\"\"\n",
    "        new_grid = state.grid.copy()\n",
    "        for i in range(state.size):\n",
    "            for j in range(state.size):\n",
    "                new_grid[i][j] = self.apply_rules(i, j, state)\n",
    "        new_state = State(grid = new_grid)\n",
    "        return new_state\n",
    "\n",
    "    def apply_rules(self, i, j, state):\n",
    "        # Compute and return the next state for grid[i][j]\n",
    "        return ...\n",
    "```"
   ]
  },
  {
   "cell_type": "markdown",
   "metadata": {},
   "source": [
    "Finally, the game holds a sequence of states and the rules \"engine\".\n",
    "\n",
    "```python\n",
    "class Game:\n",
    "    def __init__(self, initial_state, rules):\n",
    "        self.states = [initial_state]\n",
    "        self.rules = rules\n",
    "\n",
    "    def step(self, num_steps = 1):\n",
    "        \"\"\"Take 1 or more steps, returning a list of new states.\"\"\"\n",
    "        new_states = [self.rules.step(self.states[-1]) for _ in range(num_steps)]\n",
    "        self.states.extend(new_states)\n",
    "        return new_states\n",
    "```"
   ]
  },
  {
   "cell_type": "markdown",
   "metadata": {},
   "source": [
    "Okay, let's try it out!!"
   ]
  },
  {
   "cell_type": "code",
   "execution_count": null,
   "metadata": {},
   "outputs": [],
   "source": [
    "steps     = 100                # Use a larger number for a long-running game.\n",
    "game_size = 100\n",
    "plot_size = 800\n",
    "max_cell_age = 10              # clip the age of cells for graphing.\n",
    "use_fixed_cell_sizes = True    # Keep the points the same size. Try False, too!"
   ]
  },
  {
   "cell_type": "markdown",
   "metadata": {},
   "source": [
    "For the graphs, we'll use a \"greenish\" background that looks good with `RdYlBu` color map.\n",
    "\n",
    "However, if you have red-green color blindness, change the `bgcolor` string to `white`! Or, try the second combination with a custom color map `cmap` and background color `white` or `darkgrey`."
   ]
  },
  {
   "cell_type": "code",
   "execution_count": null,
   "metadata": {},
   "outputs": [],
   "source": [
    "# Color maps from Bokeh: \n",
    "cmap = 'RdYlBu' # others: 'Turbo' 'YlOrBr'\n",
    "bgcolor = '#C0CfC8' # a greenish color, but not great for forms of red-green color blindness, where 'white' is better.\n",
    "\n",
    "# A custom color map created at https://projects.susielu.com/viz-palette. Works best with white or dark grey background\n",
    "#cmap=['#ffd700', '#ffb14e', '#fa8775', '#ea5f94', '#cd34b5', '#9d02d7', '#0000ff']\n",
    "#bgcolor = 'darkgrey' # 'white'"
   ]
  },
  {
   "cell_type": "code",
   "execution_count": null,
   "metadata": {},
   "outputs": [],
   "source": [
    "def new_game(game_size):\n",
    "    initial_state = State(size = game_size)\n",
    "    rules = ConwaysRules()\n",
    "    game  = Game(initial_state=initial_state, rules=rules)\n",
    "    return game"
   ]
  },
  {
   "cell_type": "code",
   "execution_count": null,
   "metadata": {},
   "outputs": [],
   "source": [
    "game = new_game(10)\n",
    "print(game.states[0])"
   ]
  },
  {
   "cell_type": "markdown",
   "metadata": {},
   "source": [
    "Now let's create a graph for a game of life using the imported utility function, `new_game_of_life_grid` (with only one graph in the \"grid\" for now).\n",
    "\n",
    "**Note:** It will be empty for now."
   ]
  },
  {
   "cell_type": "code",
   "execution_count": null,
   "metadata": {},
   "outputs": [],
   "source": [
    "_, graphs = new_game_of_life_grid(game_size, plot_size, x_grid=1, y_grid=1, shrink_factor=1.0,\n",
    "                                  bgcolor=bgcolor, cmap=cmap,\n",
    "                                  use_fixed_cell_sizes=use_fixed_cell_sizes, max_cell_age=max_cell_age)                                  \n",
    "graphs[0]"
   ]
  },
  {
   "cell_type": "markdown",
   "metadata": {},
   "source": [
    "To make sure we don't consume too much driver memory, since games can grow large, let's write a function, `do_trial`, to run the experiment, then when it returns, the games will go out of scope and their memory will be reclaimed. It will use a library function we imported, `run_games` and the `new_game` function above to do most of the work. \n",
    "\n",
    "(You might wonder why we don't create the `graphs` inside the function. It's essentially impossible to show the grid **before** the games run **and** to do the update visualization after it's shown inside one function inside a notebook cell. We have to build the grid, render it separately, then call `do_trial`.)"
   ]
  },
  {
   "cell_type": "code",
   "execution_count": null,
   "metadata": {},
   "outputs": [],
   "source": [
    "def do_trial(graphs, num_games=1, steps=steps, batch_size=1, game_size_for_each=game_size, pause_between_batches=0.0):\n",
    "    games = [new_game(game_size_for_each) for _ in range(num_games)]\n",
    "    return run_games(games, graphs, steps, batch_size, pause_between_batches)"
   ]
  },
  {
   "cell_type": "code",
   "execution_count": null,
   "metadata": {},
   "outputs": [],
   "source": [
    "%time num_games, steps, batch_size, duration = do_trial(graphs, steps=steps, pause_between_batches=0.1)\n",
    "num_games, steps, batch_size, duration"
   ]
  },
  {
   "cell_type": "markdown",
   "metadata": {},
   "source": [
    "If you can't see the plot or see it update, click here for a screen shot: \n",
    "* [colored background](../images/ConwaysGameOfLife-Snapshot.png)\n",
    "* [white background](../images/ConwaysGameOfLife-Snapshot-White-Background.png)"
   ]
  },
  {
   "cell_type": "markdown",
   "metadata": {},
   "source": [
    "(Want to run longer? Pass a larger value for `steps` in the previous cell. 1000 takes several minutes, but you'll see interesting patterns develop.)"
   ]
  },
  {
   "cell_type": "markdown",
   "metadata": {},
   "source": [
    "The first line of output is written by `run_games`, which is called by `do_trial`. The next two lines are output from the `%time` \"magic\". The fourth line shows the values returned by `run_games` through `do_trial`, which we'll use more fully in the exercise below."
   ]
  },
  {
   "cell_type": "markdown",
   "metadata": {},
   "source": [
    "How much time did it take? Note that there were `steps*0.1` seconds of sleep time between steps, so the rest is compute time. Does that account for the difference between the _user_ time and the _wall_ time?"
   ]
  },
  {
   "cell_type": "code",
   "execution_count": null,
   "metadata": {},
   "outputs": [],
   "source": [
    "steps*0.1"
   ]
  },
  {
   "cell_type": "markdown",
   "metadata": {},
   "source": [
    "Yes, this covers most of the extra wall time."
   ]
  },
  {
   "cell_type": "markdown",
   "metadata": {},
   "source": [
    "A point's color changed as it lived longer. Here is the _color map_ used, where the top color corresponds to the longest-lived cells."
   ]
  },
  {
   "cell_type": "code",
   "execution_count": null,
   "metadata": {},
   "outputs": [],
   "source": [
    "show_cmap(cmap=cmap, max_index=max_cell_age)"
   ]
  },
  {
   "cell_type": "markdown",
   "metadata": {},
   "source": [
    "If you can't see the color map in the previous cell output, click [here](../images/ConwaysGameOfLife-ColorMap-RdYlBu.png) for the color map `RdYlBu`.\n",
    "\n",
    "You could experiment with different values for `max_cell_age`.\n",
    "\n",
    "> **Mini Exercise:** Change the value passed for `use_fixed_cell_sizes` to be `False` (in the cell that calls `new_game_of_life_grid`). Then rerun the `%time do_trial()` cell. What happens to the graph?"
   ]
  },
  {
   "cell_type": "markdown",
   "metadata": {},
   "source": [
    "### Running Lots of Games\n",
    "\n",
    "Suppose we wanted to run many of these games at the same time. For example, we might use reinforcement learning to find the initial state that maximizes some _reward_, like the most live cells after `N` steps or for immortal games. You could try writing a loop that starts `M` games and run the previous step loop interleaving games. Let's try that, with smaller grids."
   ]
  },
  {
   "cell_type": "code",
   "execution_count": null,
   "metadata": {},
   "outputs": [],
   "source": [
    "x_grid = 5\n",
    "y_grid = 3\n",
    "shrink_factor = y_grid  # Instead of 1 N-size game, build N/shrinkfactor size games\n",
    "small_game_size = round(game_size/shrink_factor)"
   ]
  },
  {
   "cell_type": "markdown",
   "metadata": {},
   "source": [
    "First build a grid of graphs, like before:"
   ]
  },
  {
   "cell_type": "code",
   "execution_count": null,
   "metadata": {},
   "outputs": [],
   "source": [
    "gridspace, all_graphs = new_game_of_life_grid(small_game_size, plot_size, x_grid, y_grid, shrink_factor,\n",
    "                                  bgcolor=bgcolor, cmap=cmap,\n",
    "                                  use_fixed_cell_sizes=use_fixed_cell_sizes, max_cell_age=max_cell_age)                                  \n",
    "gridspace"
   ]
  },
  {
   "cell_type": "code",
   "execution_count": null,
   "metadata": {},
   "outputs": [],
   "source": [
    "%time num_games, steps, batch_size, duration = do_trial(all_graphs, num_games=x_grid*y_grid, steps=steps, batch_size=1, game_size_for_each=small_game_size, pause_between_batches=0.1)"
   ]
  },
  {
   "cell_type": "code",
   "execution_count": null,
   "metadata": {},
   "outputs": [],
   "source": [
    "num_games, steps, batch_size, duration"
   ]
  },
  {
   "cell_type": "markdown",
   "metadata": {},
   "source": [
    "If you can't see the plot or see it update, click here for a screen shot: \n",
    "* [colored background](../images/ConwaysGameOfLife-Grid-Snapshot.png)\n",
    "* [white background](../images/ConwaysGameOfLife-Grid-Snapshot-White-Background.png) (captured earlier in the run)"
   ]
  },
  {
   "cell_type": "markdown",
   "metadata": {},
   "source": [
    "How much time did it take?  You can perceive a \"wave\" across the graphs at each time step, because the games aren't running concurrently. Sometimes, a \"spurt\" of updates will happen, etc. Not ideal...\n",
    "\n",
    "There were the same `steps*0.1` seconds of sleep time between steps, not dependent on the number of games, so the rest is compute time."
   ]
  },
  {
   "cell_type": "markdown",
   "metadata": {},
   "source": [
    "## Improving Performance with Ray. \n",
    "\n",
    "Let's start Ray as before in the [first lesson](01-Ray-Tasks.ipynb)."
   ]
  },
  {
   "cell_type": "code",
   "execution_count": null,
   "metadata": {},
   "outputs": [],
   "source": [
    "ray.init(ignore_reinit_error=True)"
   ]
  },
  {
   "cell_type": "markdown",
   "metadata": {},
   "source": [
    "Running on your laptop? Click the output of the next cell to open the Ray Dashboard.\n",
    "\n",
    "If you are running on the Anyscale platform, use the dashboard URL provided to you."
   ]
  },
  {
   "cell_type": "markdown",
   "metadata": {},
   "source": [
    "## Actors - Ray's Tool for Distributed State\n",
    "\n",
    "Python is an object-oriented language. We often encapsulate bits of state in classes, like we did for `State` above. Ray leverages this familiar mechanism to manage distributed state.\n",
    "\n",
    "Recall that adding the `@ray.remote` annotation to a _function_ turned it into a _task_. If we use the same annotation on a Python _class_, we get an _actor_.\n",
    "\n",
    "### Why \"Actor\"\n",
    "\n",
    "The [Actor Model of Concurrency](https://en.wikipedia.org/wiki/Actor_model) is almost 50 years old! It's a _message-passing_ model, where autonomous blocks of code, the actors, receive messages from other actors asking them to perform work or return some results. Implementations provide thread safety while the messages are processed, one at a time. This means the user of an actor model implementation doesn't have to worry about writing thread-safe code. Because many messages might arrive while one is being processed, they are stored in a queue and processed one at a time, the order of arrival. \n",
    "\n",
    "There are many other implementations of the actor model, including [Erlang](https://www.erlang.org/), the first system to create a production-grade implementation, initially used for telecom switches, and [Akka](https://akka.io), a JVM implementation inspired by Erlang."
   ]
  },
  {
   "cell_type": "markdown",
   "metadata": {},
   "source": [
    "> **Tip:** The [Ray Package Reference](https://ray.readthedocs.io/en/latest/package-ref.html) in the [Ray Docs](https://ray.readthedocs.io/en/latest/) is useful for exploring the API features we'll learn."
   ]
  },
  {
   "cell_type": "markdown",
   "metadata": {},
   "source": [
    "Let's start by simply making `Game` an actor. We'll just subclass it and add `@ray.remote` to the subclass.\n",
    "\n",
    "There's one other change we have to make; if we want to access the `state` and `rules` instances in an Actor, we can't just use `mygame.state`, for example, as you would normally do for Python instances. Instead, we have to add \"getter\" methods for them.\n",
    "\n",
    "Here's our Game actor definition."
   ]
  },
  {
   "cell_type": "code",
   "execution_count": null,
   "metadata": {},
   "outputs": [],
   "source": [
    "@ray.remote\n",
    "class RayGame(Game):\n",
    "    def __init__(self, initial_state, rules):\n",
    "        super().__init__(initial_state, rules)\n",
    "        \n",
    "    def get_states(self):\n",
    "        return self.states\n",
    "            \n",
    "    def get_rules(self):\n",
    "        return self.rules"
   ]
  },
  {
   "cell_type": "markdown",
   "metadata": {},
   "source": [
    "To construct an instance and call methods, you use `.remote` as for tasks:"
   ]
  },
  {
   "cell_type": "code",
   "execution_count": null,
   "metadata": {},
   "outputs": [],
   "source": [
    "def new_ray_game(game_size):\n",
    "    initial_state = State(size = game_size)\n",
    "    rules = ConwaysRules()\n",
    "    ray_game_actor = RayGame.remote(initial_state, rules)   # Note that .remote(...) is used to construct the instance.\n",
    "    return ray_game_actor"
   ]
  },
  {
   "cell_type": "markdown",
   "metadata": {},
   "source": [
    "We'll use the following function to try out the implementation, but then take the Ray actor out of scope when we're done. This is because actors remain pinned to a worker as long as the driver (this notebook) has a reference to them. We don't want that wasted space..."
   ]
  },
  {
   "cell_type": "code",
   "execution_count": null,
   "metadata": {},
   "outputs": [],
   "source": [
    "def try_ray_game_actor():\n",
    "    ray_game_actor = new_ray_game(small_game_size)\n",
    "    print(f'Actor for game: {ray_game_actor}')\n",
    "    init_states = ray.get(ray_game_actor.step.remote())\n",
    "    print(f'\\nInitial state:\\n{init_states[0]}')\n",
    "    new_states = ray.get(ray_game_actor.step.remote())\n",
    "    print(f'\\nState after step #1:\\n{new_states[0]}')\n",
    "try_ray_game_actor()"
   ]
  },
  {
   "cell_type": "markdown",
   "metadata": {},
   "source": [
    "> **Key Points:** To summarize:\n",
    ">\n",
    "> 1. Declare an _actor_ by annotating a class with `@ray.remote`, just like declaring a _task_ from a function.\n",
    "> 2. Add _accessor_ methods for any data members that you need to read or write, because using direct access, such as `my_game.state`, doesn't work for actors.\n",
    "> 3. Construct actor instances with `my_instance = MyClass.remote(...)`.\n",
    "> 4. Call methods with `my_instance.some_method.remote(...)`.\n",
    "> 5. Use `ray.get()` and `ray.wait()` to retrieve results, just like you do for task results.\n",
    "\n",
    "> **Tip:** If you start getting warnings about lots of Python processes running or you have too many actors scheduled, you can safely ignore these messages for now, but the performance measurements below won't be as accurate."
   ]
  },
  {
   "cell_type": "markdown",
   "metadata": {},
   "source": [
    "Okay, now let's repeat our grid experiment with a Ray-enabled Game of Life. Let's define a helper function, `do_ray_trial`, which is analogous to `do_trial` above. It encapsulates some of the steps, for the same reasons mentioned above; so that our actors go out of scope and the worker slots are reclaimed when the function call returns.\n",
    "\n",
    "We call a library function `run_ray_games` to run these games. It's somewhat complicated, because it uses `ray.wait()` to process updates as soon as they are available, and also has hooks for batch processing and running without graphing (see below).\n",
    "\n",
    "We'll create the graphs separately and pass them into `do_ray_trial`. "
   ]
  },
  {
   "cell_type": "code",
   "execution_count": null,
   "metadata": {},
   "outputs": [],
   "source": [
    "def do_ray_trial(graphs, num_games=1, steps=steps, batch_size=1, game_size_for_each=game_size, pause_between_batches=0.0):\n",
    "    game_actors = [new_ray_game(game_size_for_each) for _ in range(num_games)]\n",
    "    return run_ray_games(game_actors, graphs, steps, batch_size, pause_between_batches)"
   ]
  },
  {
   "cell_type": "code",
   "execution_count": null,
   "metadata": {},
   "outputs": [],
   "source": [
    "ray_gridspace, ray_graphs = new_game_of_life_grid(small_game_size, plot_size, x_grid, y_grid, shrink_factor,\n",
    "                                  bgcolor=bgcolor, cmap=cmap,\n",
    "                                  use_fixed_cell_sizes=use_fixed_cell_sizes, max_cell_age=max_cell_age)                                  \n",
    "ray_gridspace"
   ]
  },
  {
   "cell_type": "code",
   "execution_count": null,
   "metadata": {},
   "outputs": [],
   "source": [
    "%time do_ray_trial(ray_graphs, num_games=x_grid*y_grid, steps=steps, batch_size=1, game_size_for_each=small_game_size, pause_between_batches=0.1)"
   ]
  },
  {
   "cell_type": "markdown",
   "metadata": {},
   "source": [
    "(Can't see the image? It's basically the same as the previous grid example.)\n",
    "\n",
    "How did your times compare? For example, using a recent model MacBook Pro laptop, this run took roughly 19 seconds vs. 21 seconds for the previous run without Ray. That's not much of an improvement. Why?\n",
    "\n",
    "In fact, updating the graphs causes enough overhead to remove most of the speed advantage of using Ray. We also sleep briefly between generations for nicer output. However, using Ray does produce smoother graph updates.\n",
    "\n",
    "So, if we want to study more performance optimizations, we should remove the graphing overhead, which we'll do for the rest of this lesson."
   ]
  },
  {
   "cell_type": "markdown",
   "metadata": {},
   "source": [
    "Let's run the two trials without graphs and compare the performance. We'll use no pauses between \"batches\" and run the same number of games as the number of CPU (cores) Ray says we have. This is actually the number of workers Ray started for us and 2x the number of actual cores:"
   ]
  },
  {
   "cell_type": "code",
   "execution_count": null,
   "metadata": {},
   "outputs": [],
   "source": [
    "num_cpus_float = ray.cluster_resources()['CPU']\n",
    "num_cpus_float"
   ]
  },
  {
   "cell_type": "markdown",
   "metadata": {},
   "source": [
    "As soon as you start the next two cell, switch to the Ray Dashboard and watch the CPU utilization. You'll see the Ray workers are idle, because we aren't using them right now, but the total CPU utilization will be about well under 100%. For example, on a four-core laptop, the total CPU utilization will be 20-25% or roughly 1/4th capacity. \n",
    "\n",
    "Why? We're running the whole computation in the Python process for this notebook, which only utilizes one core."
   ]
  },
  {
   "cell_type": "code",
   "execution_count": null,
   "metadata": {},
   "outputs": [],
   "source": [
    "%time do_trial(None, num_games=round(num_cpus_float), steps=steps, batch_size=1, game_size_for_each=game_size, pause_between_batches=0.0)"
   ]
  },
  {
   "cell_type": "markdown",
   "metadata": {},
   "source": [
    "Now use Ray. Again, as soon as you start the next cell, switch to the Ray Dashboard and watch the CPU utilization. Now, the Ray workers will be utilized (but not 100%) and the total CPU utilization will be higher. You'll probably see 70-80% utilization.\n",
    "\n",
    "Hence, now we're running on all cores."
   ]
  },
  {
   "cell_type": "code",
   "execution_count": null,
   "metadata": {},
   "outputs": [],
   "source": [
    "%time do_ray_trial(None, num_games=round(num_cpus_float), steps=steps, batch_size=1, game_size_for_each=game_size, pause_between_batches=0.0)"
   ]
  },
  {
   "cell_type": "markdown",
   "metadata": {},
   "source": [
    "So, using Ray does help when running parallel games. On a typical laptop, the performance boost is about 2-3 times better. It's not 15 times better (the number of concurrent games), because the computation is CPU intensive for each game with frequent memory access, so all the available cores are fully utilized. We would see much more impressive improvements on a cluster with a lot of CPU cores when running a massive number of games.\n",
    "\n",
    "Notice the times for `user` and `total` times reported for the non-Ray and Ray runs (which are printed by the `%time` \"magic\"). They are only measuring the time for the notebook Python process, i.e., our \"driver\" program, not the whole application. Without Ray, all the work is done in this process, as we said previously, so the `user` and `total` times roughly equal the wall clock time. However, for Ray, these times are very low; the notebook is mostly idle, while the work is done in the separate Ray worker processes."
   ]
  },
  {
   "cell_type": "markdown",
   "metadata": {},
   "source": [
    "## More about Actors\n",
    "\n",
    "Let's finish with a discussion of additional important information about actors, including recapping some points mentioned above.\n",
    "\n",
    "### Actor Scheduling and Lifetimes\n",
    "\n",
    "For the most part, when Ray runs actor code, it uses the same _task_ mechanisms we discussed in the [Ray Tasks](01-Ray-Tasks.ipynb) lesson. Actor constructor and method invocations work just like task invocations. However, there are a few notable differences:\n",
    "\n",
    "* Once a _task_ finishes, it is removed from the worker that executed it, while an actor is _pinned_ to the worker until all Python references to it in the driver program are out of scope. That is, the usual garbage collection mechanism in Python determines when an actor is no longer needed and is removed from a worker. The reason the actor must remain in memory is because it holds state that might be needed, whereas tasks are stateless.\n",
    "* Currently, each actor instance uses tens of MB of memory overhead. Hence, just as you should avoid having too many fine-grained tasks, you should avoid too many actor instances. (Reducing the overhead per actor is an ongoing improvement project.)\n",
    "\n",
    "We explore actor scheduling and lifecycles in much greater depth in lesson [03: Ray Internals](03-Ray-Internals.ipynb) in the [Advanced Ray](../advanced-ray/00-Advanced-Ray-Overview.ipynb) tutorial."
   ]
  },
  {
   "cell_type": "markdown",
   "metadata": {},
   "source": [
    "### Durability of Actor State\n",
    "\n",
    "At this time, Ray provides no built-in mechanism for _persisting_ actor state, i.e., writing to disk or a database in case of process failure. Hence, if a worker or whole server goes down with actor instances, their state is lost. \n",
    "\n",
    "This is an area where Ray will evolve and improve in the future. For now, an important design consideration is to decide when you need to _checkpoint_ state and to use an appropriate mechanism for this purpose. Some of the Ray APIs explored in other tutorials have built-in checkpoint features, such as for saving snapshots of trained models to a file system."
   ]
  },
  {
   "cell_type": "markdown",
   "metadata": {},
   "source": [
    "## Extra - Does It Help to Run with Larger Batch Sizes?"
   ]
  },
  {
   "cell_type": "markdown",
   "metadata": {},
   "source": [
    "You can read this section but choose to skip running the code for time's sake. The outcomes are discussed at the end."
   ]
  },
  {
   "cell_type": "markdown",
   "metadata": {},
   "source": [
    "You'll notice that we defined `run_games` and `do_trial`, as well as `run_ray_games` and `do_ray_trial` to take an optional `batch_size` that defaults to `1`. The idea is that maybe running game steps in batches, rather than one step at a time, will improve performance (but look less pleasing in the graphs). \n",
    "\n",
    "This concept works in some contexts, such as minimizing the number of messages sent in networks (that is, fewer, but larger payloads), but it actually doesn't help a lot here, because each game is played in a single process, whether using Ray or not (at least as currently implemented...). Batching reduces the number of method invocations, but it's not an important amount of overhead in our case.\n",
    "\n",
    "Let's confirm our suspicion about batching, that it doesn't help a lot.\n",
    "\n",
    "Let's time several batch sizes without and with Ray. We'll run several times with each batch size to get an informal sense of the variation possible.\n",
    "\n",
    "Once again, watch the Ray Dashboard while the next two code cells run."
   ]
  },
  {
   "cell_type": "code",
   "execution_count": null,
   "metadata": {},
   "outputs": [],
   "source": [
    "for batch in [1, 10, 25, 50]:\n",
    "    for run in [0, 1]:\n",
    "        do_trial(graphs = None, num_games=1, steps=steps, batch_size=batch, game_size_for_each=game_size, pause_between_batches=0.0)"
   ]
  },
  {
   "cell_type": "markdown",
   "metadata": {},
   "source": [
    "There isn't a significant difference based on batch size.\n",
    "\n",
    "What about Ray? If we're running just one game, the results should be about the same."
   ]
  },
  {
   "cell_type": "code",
   "execution_count": null,
   "metadata": {},
   "outputs": [],
   "source": [
    "for batch in [1, 10, 25, 50]:\n",
    "    for run in [0, 1]:\n",
    "        do_ray_trial(graphs = None, num_games=1, steps=steps, batch_size=batch, game_size_for_each=game_size, pause_between_batches=0.0)"
   ]
  },
  {
   "cell_type": "markdown",
   "metadata": {},
   "source": [
    "With Ray's background activity, there is likely to be a little more variation in the numbers, but the conclusion is the same; the batch size doesn't matter because no additional exploitation of asynchronous computing is used."
   ]
  },
  {
   "cell_type": "markdown",
   "metadata": {},
   "source": [
    "# Exercises\n",
    "\n",
    "When we needed to run multiple games concurrently as fast as possible, Ray was an easy win. If we graphed them while running, the wall-clock time is about the same, due to the graphics overhead, but the graphs updated more smoothly and each one looked independent.\n",
    "\n",
    "Just as for Ray tasks, actors add some overhead, so there will be a crossing point for small problems where the concurrency provided by Ray won't be as beneficial. This exercise uses a simple actor example to explore this tradeoff.\n",
    "\n",
    "See the [solutions notebook](solutions/Ray-Crash-Course-Solutions.ipynb) for a discussion of questions posed in this exercise."
   ]
  },
  {
   "cell_type": "markdown",
   "metadata": {},
   "source": [
    "## Exercise 1\n",
    "\n",
    "Let's investigate Ray Actor performance. Answers to the questions posed here are in the [solutions](solutions/Ray-Crash-Course-Solutions.ipynb) notebook."
   ]
  },
  {
   "cell_type": "markdown",
   "metadata": {},
   "source": [
    "Consider the following class and actor, which simulate a busy process using `time.sleep()`:"
   ]
  },
  {
   "cell_type": "code",
   "execution_count": 32,
   "metadata": {},
   "outputs": [],
   "source": [
    "class Counter:\n",
    "    \"\"\"Remember how many times ``next()`` has been called.\"\"\"\n",
    "    def __init__(self, pause):\n",
    "        self.count = 0\n",
    "        self.pause = pause\n",
    "    def next(self):\n",
    "        time.sleep(self.pause)\n",
    "        self.count += 1\n",
    "        return self.count"
   ]
  },
  {
   "cell_type": "code",
   "execution_count": 33,
   "metadata": {},
   "outputs": [],
   "source": [
    "@ray.remote\n",
    "class RayCounter(Counter):\n",
    "    \"\"\"Remember how many times ``next()`` has been called.\"\"\"\n",
    "    def __init__(self, pause):\n",
    "        super().__init__(pause)\n",
    "    def get_count(self):\n",
    "        return self.count"
   ]
  },
  {
   "cell_type": "markdown",
   "metadata": {},
   "source": [
    "Recall that for an actor we need an accessor method to get the current count.\n",
    "\n",
    "Here are methods to time them."
   ]
  },
  {
   "cell_type": "code",
   "execution_count": 34,
   "metadata": {},
   "outputs": [],
   "source": [
    "def counter_trial(count_to, num_counters = 1, pause = 0.01):\n",
    "    print('not ray: count_to = {:5d}, num counters = {:4d}, pause = {:5.3f}: '.format(count_to, num_counters, pause), end='')\n",
    "    start = time.time()\n",
    "    counters = [Counter(pause) for _ in range(num_counters)]\n",
    "    for i in range(num_counters):\n",
    "        for n in range(count_to):\n",
    "            counters[i].next()\n",
    "    duration = time.time() - start\n",
    "    print('time = {:9.5f} seconds'.format(duration))\n",
    "    return count_to, num_counters, pause, duration"
   ]
  },
  {
   "cell_type": "code",
   "execution_count": 35,
   "metadata": {},
   "outputs": [],
   "source": [
    "def ray_counter_trial(count_to, num_counters = 1, pause = 0.01):\n",
    "    print('ray:     count_to = {:5d}, num counters = {:4d}, pause = {:5.3f}: '.format(count_to, num_counters, pause), end='')\n",
    "    start = time.time()\n",
    "    final_count_futures = []\n",
    "    counters = [RayCounter.remote(pause) for _ in range(num_counters)]\n",
    "    for i in range(num_counters):\n",
    "        for n in range(count_to):\n",
    "            counters[i].next.remote()\n",
    "        final_count_futures.append(counters[i].get_count.remote())\n",
    "    ray.get(final_count_futures)  # Discard result, but wait until finished!\n",
    "    duration = time.time() - start\n",
    "    print('time = {:9.5f} seconds'.format(duration))\n",
    "    return count_to, num_counters, pause, duration"
   ]
  },
  {
   "cell_type": "markdown",
   "metadata": {},
   "source": [
    "Let's get a sense of what the performance looks like:"
   ]
  },
  {
   "cell_type": "code",
   "execution_count": 36,
   "metadata": {},
   "outputs": [
    {
     "name": "stdout",
     "output_type": "stream",
     "text": [
      "not ray: count_to =    10, num counters =    1, pause = 0.000: time =   0.00039 seconds\n",
      "not ray: count_to =    10, num counters =    2, pause = 0.000: time =   0.00007 seconds\n",
      "not ray: count_to =    10, num counters =    3, pause = 0.000: time =   0.00053 seconds\n",
      "not ray: count_to =    10, num counters =    4, pause = 0.000: time =   0.00071 seconds\n",
      "not ray: count_to =    10, num counters =    1, pause = 0.100: time =   1.03061 seconds\n",
      "not ray: count_to =    10, num counters =    2, pause = 0.100: time =   2.06037 seconds\n",
      "not ray: count_to =    10, num counters =    3, pause = 0.100: time =   3.07844 seconds\n",
      "not ray: count_to =    10, num counters =    4, pause = 0.100: time =   4.12418 seconds\n",
      "not ray: count_to =    10, num counters =    1, pause = 0.200: time =   2.02095 seconds\n",
      "not ray: count_to =    10, num counters =    2, pause = 0.200: time =   4.04027 seconds\n",
      "not ray: count_to =    10, num counters =    3, pause = 0.200: time =   6.08269 seconds\n",
      "not ray: count_to =    10, num counters =    4, pause = 0.200: time =   8.11051 seconds\n"
     ]
    }
   ],
   "source": [
    "count_to = 10\n",
    "for num_counters in [1, 2, 3, 4]:\n",
    "    counter_trial(count_to, num_counters, 0.0)\n",
    "for num_counters in [1, 2, 3, 4]:\n",
    "    counter_trial(count_to, num_counters, 0.1)\n",
    "for num_counters in [1, 2, 3, 4]:\n",
    "    counter_trial(count_to, num_counters, 0.2)"
   ]
  },
  {
   "cell_type": "markdown",
   "metadata": {},
   "source": [
    "When there is no sleep pause, the results are almost instaneous. For nonzero pauses, the times scale linearly in the pause size and the number of `Counter` instances. This is expected, since `Counter` and `counter_trail` are completely synchronous.\n",
    "\n",
    "What about for Ray?"
   ]
  },
  {
   "cell_type": "code",
   "execution_count": 37,
   "metadata": {},
   "outputs": [
    {
     "name": "stdout",
     "output_type": "stream",
     "text": [
      "ray:     count_to =    10, num counters =    1, pause = 0.000: "
     ]
    },
    {
     "name": "stderr",
     "output_type": "stream",
     "text": [
      "2021-10-18 06:45:20,430\tINFO services.py:1252 -- View the Ray dashboard at \u001b[1m\u001b[32mhttp://127.0.0.1:8265\u001b[39m\u001b[22m\n"
     ]
    },
    {
     "name": "stdout",
     "output_type": "stream",
     "text": [
      "time =   2.64261 seconds\n",
      "ray:     count_to =    10, num counters =    2, pause = 0.000: time =   0.75267 seconds\n",
      "ray:     count_to =    10, num counters =    3, pause = 0.000: time =   0.72335 seconds\n",
      "ray:     count_to =    10, num counters =    4, pause = 0.000: time =   0.75695 seconds\n",
      "ray:     count_to =    10, num counters =    1, pause = 0.100: time =   1.71324 seconds\n",
      "ray:     count_to =    10, num counters =    2, pause = 0.100: time =   1.75841 seconds\n",
      "ray:     count_to =    10, num counters =    3, pause = 0.100: time =   1.77187 seconds\n",
      "ray:     count_to =    10, num counters =    4, pause = 0.100: time =   1.78451 seconds\n",
      "ray:     count_to =    10, num counters =    1, pause = 0.200: time =   2.75683 seconds\n",
      "ray:     count_to =    10, num counters =    2, pause = 0.200: time =   2.74667 seconds\n",
      "ray:     count_to =    10, num counters =    3, pause = 0.200: time =   2.77803 seconds\n",
      "ray:     count_to =    10, num counters =    4, pause = 0.200: time =   2.79148 seconds\n"
     ]
    }
   ],
   "source": [
    "count_to = 10\n",
    "for num_counters in [1, 2, 3, 4]:\n",
    "    ray_counter_trial(count_to, num_counters, 0.0)\n",
    "for num_counters in [1, 2, 3, 4]:\n",
    "    ray_counter_trial(count_to, num_counters, 0.1)\n",
    "for num_counters in [1, 2, 3, 4]:\n",
    "    ray_counter_trial(count_to, num_counters, 0.2)"
   ]
  },
  {
   "cell_type": "markdown",
   "metadata": {},
   "source": [
    "Ray has higher overhead, so the zero-pause times for `RayCounter` are much longer than for `Counter`, but the times are roughly independent of the number of counters, because the instances are now running in parallel unlike before. However, the times _per counter_ still grow linearly in the pause time and they are very close to the the times per counter for `Counter` instances. Here's a repeat run to show what we mean:"
   ]
  },
  {
   "cell_type": "code",
   "execution_count": 38,
   "metadata": {},
   "outputs": [
    {
     "name": "stdout",
     "output_type": "stream",
     "text": [
      "not ray: count_to =    10, num counters =    1, pause = 0.000: time =   0.00024 seconds\n",
      "ray:     count_to =    10, num counters =    1, pause = 0.000: time =   0.72115 seconds\n",
      "not ray: count_to =    10, num counters =    1, pause = 0.100: time =   1.01609 seconds\n",
      "ray:     count_to =    10, num counters =    1, pause = 0.100: time =   1.80469 seconds\n",
      "not ray: count_to =    10, num counters =    1, pause = 0.200: time =   2.01647 seconds\n",
      "ray:     count_to =    10, num counters =    1, pause = 0.200: time =   2.74465 seconds\n",
      "not ray: count_to =    10, num counters =    1, pause = 0.300: time =   3.03504 seconds\n",
      "ray:     count_to =    10, num counters =    1, pause = 0.300: time =   3.73886 seconds\n",
      "not ray: count_to =    10, num counters =    1, pause = 0.400: time =   4.01807 seconds\n",
      "ray:     count_to =    10, num counters =    1, pause = 0.400: time =   4.74108 seconds\n",
      "not ray: count_to =    10, num counters =    1, pause = 0.500: time =   5.01897 seconds\n",
      "ray:     count_to =    10, num counters =    1, pause = 0.500: time =   5.75326 seconds\n"
     ]
    }
   ],
   "source": [
    "count_to=10\n",
    "num_counters = 1 \n",
    "for pause in range(0,6):\n",
    "    counter_trial(count_to, num_counters, pause*0.1)\n",
    "    ray_counter_trial(count_to, num_counters, pause*0.1)"
   ]
  },
  {
   "cell_type": "markdown",
   "metadata": {},
   "source": [
    "Ignoring pause = 0, can you explain why the Ray times are almost, but slightly larger than the non-ray times consistently? Study the implementations for `ray_counter_trial` and `RayCounter`. What code is synchronous and blocking vs. concurrent? In fact, is there _any_ code that is actually concurrent when you have just one instance of `Counter` or `RayCounter`?"
   ]
  },
  {
   "cell_type": "markdown",
   "metadata": {},
   "source": [
    "To finish, let's look at the behavior for smaller pause steps, 0.0 to 0.1, and plot the times."
   ]
  },
  {
   "cell_type": "code",
   "execution_count": 39,
   "metadata": {},
   "outputs": [
    {
     "name": "stdout",
     "output_type": "stream",
     "text": [
      "not ray: count_to =    10, num counters =    1, pause = 0.000: time =   0.00023 seconds\n",
      "ray:     count_to =    10, num counters =    1, pause = 0.000: time =   0.70282 seconds\n",
      "not ray: count_to =    10, num counters =    1, pause = 0.010: time =   0.12034 seconds\n",
      "ray:     count_to =    10, num counters =    1, pause = 0.010: time =   0.82181 seconds\n",
      "not ray: count_to =    10, num counters =    1, pause = 0.020: time =   0.22484 seconds\n",
      "ray:     count_to =    10, num counters =    1, pause = 0.020: time =   0.92805 seconds\n",
      "not ray: count_to =    10, num counters =    1, pause = 0.030: time =   0.32882 seconds\n",
      "ray:     count_to =    10, num counters =    1, pause = 0.030: time =   1.06352 seconds\n",
      "not ray: count_to =    10, num counters =    1, pause = 0.040: time =   0.42238 seconds\n",
      "ray:     count_to =    10, num counters =    1, pause = 0.040: time =   1.13944 seconds\n",
      "not ray: count_to =    10, num counters =    1, pause = 0.050: time =   0.52658 seconds\n",
      "ray:     count_to =    10, num counters =    1, pause = 0.050: time =   1.26892 seconds\n",
      "not ray: count_to =    10, num counters =    1, pause = 0.060: time =   0.63016 seconds\n",
      "ray:     count_to =    10, num counters =    1, pause = 0.060: time =   1.36237 seconds\n",
      "not ray: count_to =    10, num counters =    1, pause = 0.070: time =   0.73195 seconds\n",
      "ray:     count_to =    10, num counters =    1, pause = 0.070: time =   1.48872 seconds\n",
      "not ray: count_to =    10, num counters =    1, pause = 0.080: time =   0.82932 seconds\n",
      "ray:     count_to =    10, num counters =    1, pause = 0.080: time =   1.61250 seconds\n",
      "not ray: count_to =    10, num counters =    1, pause = 0.090: time =   0.92547 seconds\n",
      "ray:     count_to =    10, num counters =    1, pause = 0.090: time =   1.62813 seconds\n",
      "not ray: count_to =    10, num counters =    1, pause = 0.100: time =   1.01302 seconds\n",
      "ray:     count_to =    10, num counters =    1, pause = 0.100: time =   1.73065 seconds\n"
     ]
    }
   ],
   "source": [
    "count_to=10\n",
    "num_counters = 1 \n",
    "pauses=[]\n",
    "durations=[]\n",
    "ray_durations=[]\n",
    "for pause in range(0,11):\n",
    "    pauses.append(pause*0.01)\n",
    "    _, _, _, duration = counter_trial(count_to, num_counters, pause*0.01)\n",
    "    durations.append(duration)\n",
    "    _, _, _, duration = ray_counter_trial(count_to, num_counters, pause*0.01)\n",
    "    ray_durations.append(duration)"
   ]
  },
  {
   "cell_type": "code",
   "execution_count": 40,
   "metadata": {},
   "outputs": [
    {
     "data": {
      "text/html": [
       "\n",
       "    <div class=\"bk-root\">\n",
       "        <a href=\"https://bokeh.org\" target=\"_blank\" class=\"bk-logo bk-logo-small bk-logo-notebook\"></a>\n",
       "        <span id=\"56150\">Loading BokehJS ...</span>\n",
       "    </div>"
      ]
     },
     "metadata": {},
     "output_type": "display_data"
    },
    {
     "data": {
      "application/javascript": [
       "\n",
       "(function(root) {\n",
       "  function now() {\n",
       "    return new Date();\n",
       "  }\n",
       "\n",
       "  const force = true;\n",
       "\n",
       "  if (typeof root._bokeh_onload_callbacks === \"undefined\" || force === true) {\n",
       "    root._bokeh_onload_callbacks = [];\n",
       "    root._bokeh_is_loading = undefined;\n",
       "  }\n",
       "\n",
       "  const JS_MIME_TYPE = 'application/javascript';\n",
       "  const HTML_MIME_TYPE = 'text/html';\n",
       "  const EXEC_MIME_TYPE = 'application/vnd.bokehjs_exec.v0+json';\n",
       "  const CLASS_NAME = 'output_bokeh rendered_html';\n",
       "\n",
       "  /**\n",
       "   * Render data to the DOM node\n",
       "   */\n",
       "  function render(props, node) {\n",
       "    const script = document.createElement(\"script\");\n",
       "    node.appendChild(script);\n",
       "  }\n",
       "\n",
       "  /**\n",
       "   * Handle when an output is cleared or removed\n",
       "   */\n",
       "  function handleClearOutput(event, handle) {\n",
       "    const cell = handle.cell;\n",
       "\n",
       "    const id = cell.output_area._bokeh_element_id;\n",
       "    const server_id = cell.output_area._bokeh_server_id;\n",
       "    // Clean up Bokeh references\n",
       "    if (id != null && id in Bokeh.index) {\n",
       "      Bokeh.index[id].model.document.clear();\n",
       "      delete Bokeh.index[id];\n",
       "    }\n",
       "\n",
       "    if (server_id !== undefined) {\n",
       "      // Clean up Bokeh references\n",
       "      const cmd_clean = \"from bokeh.io.state import curstate; print(curstate().uuid_to_server['\" + server_id + \"'].get_sessions()[0].document.roots[0]._id)\";\n",
       "      cell.notebook.kernel.execute(cmd_clean, {\n",
       "        iopub: {\n",
       "          output: function(msg) {\n",
       "            const id = msg.content.text.trim();\n",
       "            if (id in Bokeh.index) {\n",
       "              Bokeh.index[id].model.document.clear();\n",
       "              delete Bokeh.index[id];\n",
       "            }\n",
       "          }\n",
       "        }\n",
       "      });\n",
       "      // Destroy server and session\n",
       "      const cmd_destroy = \"import bokeh.io.notebook as ion; ion.destroy_server('\" + server_id + \"')\";\n",
       "      cell.notebook.kernel.execute(cmd_destroy);\n",
       "    }\n",
       "  }\n",
       "\n",
       "  /**\n",
       "   * Handle when a new output is added\n",
       "   */\n",
       "  function handleAddOutput(event, handle) {\n",
       "    const output_area = handle.output_area;\n",
       "    const output = handle.output;\n",
       "\n",
       "    // limit handleAddOutput to display_data with EXEC_MIME_TYPE content only\n",
       "    if ((output.output_type != \"display_data\") || (!Object.prototype.hasOwnProperty.call(output.data, EXEC_MIME_TYPE))) {\n",
       "      return\n",
       "    }\n",
       "\n",
       "    const toinsert = output_area.element.find(\".\" + CLASS_NAME.split(' ')[0]);\n",
       "\n",
       "    if (output.metadata[EXEC_MIME_TYPE][\"id\"] !== undefined) {\n",
       "      toinsert[toinsert.length - 1].firstChild.textContent = output.data[JS_MIME_TYPE];\n",
       "      // store reference to embed id on output_area\n",
       "      output_area._bokeh_element_id = output.metadata[EXEC_MIME_TYPE][\"id\"];\n",
       "    }\n",
       "    if (output.metadata[EXEC_MIME_TYPE][\"server_id\"] !== undefined) {\n",
       "      const bk_div = document.createElement(\"div\");\n",
       "      bk_div.innerHTML = output.data[HTML_MIME_TYPE];\n",
       "      const script_attrs = bk_div.children[0].attributes;\n",
       "      for (let i = 0; i < script_attrs.length; i++) {\n",
       "        toinsert[toinsert.length - 1].firstChild.setAttribute(script_attrs[i].name, script_attrs[i].value);\n",
       "        toinsert[toinsert.length - 1].firstChild.textContent = bk_div.children[0].textContent\n",
       "      }\n",
       "      // store reference to server id on output_area\n",
       "      output_area._bokeh_server_id = output.metadata[EXEC_MIME_TYPE][\"server_id\"];\n",
       "    }\n",
       "  }\n",
       "\n",
       "  function register_renderer(events, OutputArea) {\n",
       "\n",
       "    function append_mime(data, metadata, element) {\n",
       "      // create a DOM node to render to\n",
       "      const toinsert = this.create_output_subarea(\n",
       "        metadata,\n",
       "        CLASS_NAME,\n",
       "        EXEC_MIME_TYPE\n",
       "      );\n",
       "      this.keyboard_manager.register_events(toinsert);\n",
       "      // Render to node\n",
       "      const props = {data: data, metadata: metadata[EXEC_MIME_TYPE]};\n",
       "      render(props, toinsert[toinsert.length - 1]);\n",
       "      element.append(toinsert);\n",
       "      return toinsert\n",
       "    }\n",
       "\n",
       "    /* Handle when an output is cleared or removed */\n",
       "    events.on('clear_output.CodeCell', handleClearOutput);\n",
       "    events.on('delete.Cell', handleClearOutput);\n",
       "\n",
       "    /* Handle when a new output is added */\n",
       "    events.on('output_added.OutputArea', handleAddOutput);\n",
       "\n",
       "    /**\n",
       "     * Register the mime type and append_mime function with output_area\n",
       "     */\n",
       "    OutputArea.prototype.register_mime_type(EXEC_MIME_TYPE, append_mime, {\n",
       "      /* Is output safe? */\n",
       "      safe: true,\n",
       "      /* Index of renderer in `output_area.display_order` */\n",
       "      index: 0\n",
       "    });\n",
       "  }\n",
       "\n",
       "  // register the mime type if in Jupyter Notebook environment and previously unregistered\n",
       "  if (root.Jupyter !== undefined) {\n",
       "    const events = require('base/js/events');\n",
       "    const OutputArea = require('notebook/js/outputarea').OutputArea;\n",
       "\n",
       "    if (OutputArea.prototype.mime_types().indexOf(EXEC_MIME_TYPE) == -1) {\n",
       "      register_renderer(events, OutputArea);\n",
       "    }\n",
       "  }\n",
       "\n",
       "  \n",
       "  if (typeof (root._bokeh_timeout) === \"undefined\" || force === true) {\n",
       "    root._bokeh_timeout = Date.now() + 5000;\n",
       "    root._bokeh_failed_load = false;\n",
       "  }\n",
       "\n",
       "  const NB_LOAD_WARNING = {'data': {'text/html':\n",
       "     \"<div style='background-color: #fdd'>\\n\"+\n",
       "     \"<p>\\n\"+\n",
       "     \"BokehJS does not appear to have successfully loaded. If loading BokehJS from CDN, this \\n\"+\n",
       "     \"may be due to a slow or bad network connection. Possible fixes:\\n\"+\n",
       "     \"</p>\\n\"+\n",
       "     \"<ul>\\n\"+\n",
       "     \"<li>re-rerun `output_notebook()` to attempt to load from CDN again, or</li>\\n\"+\n",
       "     \"<li>use INLINE resources instead, as so:</li>\\n\"+\n",
       "     \"</ul>\\n\"+\n",
       "     \"<code>\\n\"+\n",
       "     \"from bokeh.resources import INLINE\\n\"+\n",
       "     \"output_notebook(resources=INLINE)\\n\"+\n",
       "     \"</code>\\n\"+\n",
       "     \"</div>\"}};\n",
       "\n",
       "  function display_loaded() {\n",
       "    const el = document.getElementById(\"56150\");\n",
       "    if (el != null) {\n",
       "      el.textContent = \"BokehJS is loading...\";\n",
       "    }\n",
       "    if (root.Bokeh !== undefined) {\n",
       "      if (el != null) {\n",
       "        el.textContent = \"BokehJS \" + root.Bokeh.version + \" successfully loaded.\";\n",
       "      }\n",
       "    } else if (Date.now() < root._bokeh_timeout) {\n",
       "      setTimeout(display_loaded, 100)\n",
       "    }\n",
       "  }\n",
       "\n",
       "\n",
       "  function run_callbacks() {\n",
       "    try {\n",
       "      root._bokeh_onload_callbacks.forEach(function(callback) {\n",
       "        if (callback != null)\n",
       "          callback();\n",
       "      });\n",
       "    } finally {\n",
       "      delete root._bokeh_onload_callbacks\n",
       "    }\n",
       "    console.debug(\"Bokeh: all callbacks have finished\");\n",
       "  }\n",
       "\n",
       "  function load_libs(css_urls, js_urls, callback) {\n",
       "    if (css_urls == null) css_urls = [];\n",
       "    if (js_urls == null) js_urls = [];\n",
       "\n",
       "    root._bokeh_onload_callbacks.push(callback);\n",
       "    if (root._bokeh_is_loading > 0) {\n",
       "      console.debug(\"Bokeh: BokehJS is being loaded, scheduling callback at\", now());\n",
       "      return null;\n",
       "    }\n",
       "    if (js_urls == null || js_urls.length === 0) {\n",
       "      run_callbacks();\n",
       "      return null;\n",
       "    }\n",
       "    console.debug(\"Bokeh: BokehJS not loaded, scheduling load and callback at\", now());\n",
       "    root._bokeh_is_loading = css_urls.length + js_urls.length;\n",
       "\n",
       "    function on_load() {\n",
       "      root._bokeh_is_loading--;\n",
       "      if (root._bokeh_is_loading === 0) {\n",
       "        console.debug(\"Bokeh: all BokehJS libraries/stylesheets loaded\");\n",
       "        run_callbacks()\n",
       "      }\n",
       "    }\n",
       "\n",
       "    function on_error(url) {\n",
       "      console.error(\"failed to load \" + url);\n",
       "    }\n",
       "\n",
       "    for (let i = 0; i < css_urls.length; i++) {\n",
       "      const url = css_urls[i];\n",
       "      const element = document.createElement(\"link\");\n",
       "      element.onload = on_load;\n",
       "      element.onerror = on_error.bind(null, url);\n",
       "      element.rel = \"stylesheet\";\n",
       "      element.type = \"text/css\";\n",
       "      element.href = url;\n",
       "      console.debug(\"Bokeh: injecting link tag for BokehJS stylesheet: \", url);\n",
       "      document.body.appendChild(element);\n",
       "    }\n",
       "\n",
       "    for (let i = 0; i < js_urls.length; i++) {\n",
       "      const url = js_urls[i];\n",
       "      const element = document.createElement('script');\n",
       "      element.onload = on_load;\n",
       "      element.onerror = on_error.bind(null, url);\n",
       "      element.async = false;\n",
       "      element.src = url;\n",
       "      console.debug(\"Bokeh: injecting script tag for BokehJS library: \", url);\n",
       "      document.head.appendChild(element);\n",
       "    }\n",
       "  };\n",
       "\n",
       "  function inject_raw_css(css) {\n",
       "    const element = document.createElement(\"style\");\n",
       "    element.appendChild(document.createTextNode(css));\n",
       "    document.body.appendChild(element);\n",
       "  }\n",
       "\n",
       "  \n",
       "  const js_urls = [\"https://cdn.bokeh.org/bokeh/release/bokeh-2.4.1.min.js\", \"https://cdn.bokeh.org/bokeh/release/bokeh-gl-2.4.1.min.js\", \"https://cdn.bokeh.org/bokeh/release/bokeh-widgets-2.4.1.min.js\", \"https://cdn.bokeh.org/bokeh/release/bokeh-tables-2.4.1.min.js\", \"https://cdn.bokeh.org/bokeh/release/bokeh-mathjax-2.4.1.min.js\", \"https://unpkg.com/@holoviz/panel@0.12.4/dist/panel.min.js\"];\n",
       "  const css_urls = [];\n",
       "  \n",
       "\n",
       "  const inline_js = [\n",
       "    function(Bokeh) {\n",
       "      Bokeh.set_log_level(\"info\");\n",
       "    },\n",
       "    function(Bokeh) {\n",
       "    \n",
       "    \n",
       "    }\n",
       "  ];\n",
       "\n",
       "  function run_inline_js() {\n",
       "    \n",
       "    if (root.Bokeh !== undefined || force === true) {\n",
       "      \n",
       "    for (let i = 0; i < inline_js.length; i++) {\n",
       "      inline_js[i].call(root, root.Bokeh);\n",
       "    }\n",
       "    if (force === true) {\n",
       "        display_loaded();\n",
       "      }} else if (Date.now() < root._bokeh_timeout) {\n",
       "      setTimeout(run_inline_js, 100);\n",
       "    } else if (!root._bokeh_failed_load) {\n",
       "      console.log(\"Bokeh: BokehJS failed to load within specified timeout.\");\n",
       "      root._bokeh_failed_load = true;\n",
       "    } else if (force !== true) {\n",
       "      const cell = $(document.getElementById(\"56150\")).parents('.cell').data().cell;\n",
       "      cell.output_area.append_execute_result(NB_LOAD_WARNING)\n",
       "    }\n",
       "\n",
       "  }\n",
       "\n",
       "  if (root._bokeh_is_loading === 0) {\n",
       "    console.debug(\"Bokeh: BokehJS loaded, going straight to plotting\");\n",
       "    run_inline_js();\n",
       "  } else {\n",
       "    load_libs(css_urls, js_urls, function() {\n",
       "      console.debug(\"Bokeh: BokehJS plotting callback run at\", now());\n",
       "      run_inline_js();\n",
       "    });\n",
       "  }\n",
       "}(window));"
      ],
      "application/vnd.bokehjs_load.v0+json": "\n(function(root) {\n  function now() {\n    return new Date();\n  }\n\n  const force = true;\n\n  if (typeof root._bokeh_onload_callbacks === \"undefined\" || force === true) {\n    root._bokeh_onload_callbacks = [];\n    root._bokeh_is_loading = undefined;\n  }\n\n  \n\n  \n  if (typeof (root._bokeh_timeout) === \"undefined\" || force === true) {\n    root._bokeh_timeout = Date.now() + 5000;\n    root._bokeh_failed_load = false;\n  }\n\n  const NB_LOAD_WARNING = {'data': {'text/html':\n     \"<div style='background-color: #fdd'>\\n\"+\n     \"<p>\\n\"+\n     \"BokehJS does not appear to have successfully loaded. If loading BokehJS from CDN, this \\n\"+\n     \"may be due to a slow or bad network connection. Possible fixes:\\n\"+\n     \"</p>\\n\"+\n     \"<ul>\\n\"+\n     \"<li>re-rerun `output_notebook()` to attempt to load from CDN again, or</li>\\n\"+\n     \"<li>use INLINE resources instead, as so:</li>\\n\"+\n     \"</ul>\\n\"+\n     \"<code>\\n\"+\n     \"from bokeh.resources import INLINE\\n\"+\n     \"output_notebook(resources=INLINE)\\n\"+\n     \"</code>\\n\"+\n     \"</div>\"}};\n\n  function display_loaded() {\n    const el = document.getElementById(\"56150\");\n    if (el != null) {\n      el.textContent = \"BokehJS is loading...\";\n    }\n    if (root.Bokeh !== undefined) {\n      if (el != null) {\n        el.textContent = \"BokehJS \" + root.Bokeh.version + \" successfully loaded.\";\n      }\n    } else if (Date.now() < root._bokeh_timeout) {\n      setTimeout(display_loaded, 100)\n    }\n  }\n\n\n  function run_callbacks() {\n    try {\n      root._bokeh_onload_callbacks.forEach(function(callback) {\n        if (callback != null)\n          callback();\n      });\n    } finally {\n      delete root._bokeh_onload_callbacks\n    }\n    console.debug(\"Bokeh: all callbacks have finished\");\n  }\n\n  function load_libs(css_urls, js_urls, callback) {\n    if (css_urls == null) css_urls = [];\n    if (js_urls == null) js_urls = [];\n\n    root._bokeh_onload_callbacks.push(callback);\n    if (root._bokeh_is_loading > 0) {\n      console.debug(\"Bokeh: BokehJS is being loaded, scheduling callback at\", now());\n      return null;\n    }\n    if (js_urls == null || js_urls.length === 0) {\n      run_callbacks();\n      return null;\n    }\n    console.debug(\"Bokeh: BokehJS not loaded, scheduling load and callback at\", now());\n    root._bokeh_is_loading = css_urls.length + js_urls.length;\n\n    function on_load() {\n      root._bokeh_is_loading--;\n      if (root._bokeh_is_loading === 0) {\n        console.debug(\"Bokeh: all BokehJS libraries/stylesheets loaded\");\n        run_callbacks()\n      }\n    }\n\n    function on_error(url) {\n      console.error(\"failed to load \" + url);\n    }\n\n    for (let i = 0; i < css_urls.length; i++) {\n      const url = css_urls[i];\n      const element = document.createElement(\"link\");\n      element.onload = on_load;\n      element.onerror = on_error.bind(null, url);\n      element.rel = \"stylesheet\";\n      element.type = \"text/css\";\n      element.href = url;\n      console.debug(\"Bokeh: injecting link tag for BokehJS stylesheet: \", url);\n      document.body.appendChild(element);\n    }\n\n    for (let i = 0; i < js_urls.length; i++) {\n      const url = js_urls[i];\n      const element = document.createElement('script');\n      element.onload = on_load;\n      element.onerror = on_error.bind(null, url);\n      element.async = false;\n      element.src = url;\n      console.debug(\"Bokeh: injecting script tag for BokehJS library: \", url);\n      document.head.appendChild(element);\n    }\n  };\n\n  function inject_raw_css(css) {\n    const element = document.createElement(\"style\");\n    element.appendChild(document.createTextNode(css));\n    document.body.appendChild(element);\n  }\n\n  \n  const js_urls = [\"https://cdn.bokeh.org/bokeh/release/bokeh-2.4.1.min.js\", \"https://cdn.bokeh.org/bokeh/release/bokeh-gl-2.4.1.min.js\", \"https://cdn.bokeh.org/bokeh/release/bokeh-widgets-2.4.1.min.js\", \"https://cdn.bokeh.org/bokeh/release/bokeh-tables-2.4.1.min.js\", \"https://cdn.bokeh.org/bokeh/release/bokeh-mathjax-2.4.1.min.js\", \"https://unpkg.com/@holoviz/panel@0.12.4/dist/panel.min.js\"];\n  const css_urls = [];\n  \n\n  const inline_js = [\n    function(Bokeh) {\n      Bokeh.set_log_level(\"info\");\n    },\n    function(Bokeh) {\n    \n    \n    }\n  ];\n\n  function run_inline_js() {\n    \n    if (root.Bokeh !== undefined || force === true) {\n      \n    for (let i = 0; i < inline_js.length; i++) {\n      inline_js[i].call(root, root.Bokeh);\n    }\n    if (force === true) {\n        display_loaded();\n      }} else if (Date.now() < root._bokeh_timeout) {\n      setTimeout(run_inline_js, 100);\n    } else if (!root._bokeh_failed_load) {\n      console.log(\"Bokeh: BokehJS failed to load within specified timeout.\");\n      root._bokeh_failed_load = true;\n    } else if (force !== true) {\n      const cell = $(document.getElementById(\"56150\")).parents('.cell').data().cell;\n      cell.output_area.append_execute_result(NB_LOAD_WARNING)\n    }\n\n  }\n\n  if (root._bokeh_is_loading === 0) {\n    console.debug(\"Bokeh: BokehJS loaded, going straight to plotting\");\n    run_inline_js();\n  } else {\n    load_libs(css_urls, js_urls, function() {\n      console.debug(\"Bokeh: BokehJS plotting callback run at\", now());\n      run_inline_js();\n    });\n  }\n}(window));"
     },
     "metadata": {},
     "output_type": "display_data"
    }
   ],
   "source": [
    "from bokeh_util import two_lines_plot  # utility we used in the previous lesson\n",
    "from bokeh.plotting import show, figure\n",
    "from bokeh.layouts import gridplot"
   ]
  },
  {
   "cell_type": "code",
   "execution_count": 41,
   "metadata": {},
   "outputs": [
    {
     "data": {
      "text/html": [
       "\n",
       "\n",
       "\n",
       "\n",
       "\n",
       "\n",
       "  <div class=\"bk-root\" id=\"c3d96146-1ede-4203-9364-3a99a53785b2\" data-root-id=\"56151\"></div>\n"
      ]
     },
     "metadata": {},
     "output_type": "display_data"
    },
    {
     "data": {
      "application/javascript": [
       "(function(root) {\n",
       "  function embed_document(root) {\n",
       "    \n",
       "  const docs_json = {\"2542d9be-8970-400e-9cd4-fb442c9aee89\":{\"defs\":[{\"extends\":null,\"module\":null,\"name\":\"ReactiveHTML1\",\"overrides\":[],\"properties\":[]},{\"extends\":null,\"module\":null,\"name\":\"FlexBox1\",\"overrides\":[],\"properties\":[{\"default\":\"flex-start\",\"kind\":null,\"name\":\"align_content\"},{\"default\":\"flex-start\",\"kind\":null,\"name\":\"align_items\"},{\"default\":\"row\",\"kind\":null,\"name\":\"flex_direction\"},{\"default\":\"wrap\",\"kind\":null,\"name\":\"flex_wrap\"},{\"default\":\"flex-start\",\"kind\":null,\"name\":\"justify_content\"}]},{\"extends\":null,\"module\":null,\"name\":\"TemplateActions1\",\"overrides\":[],\"properties\":[{\"default\":0,\"kind\":null,\"name\":\"open_modal\"},{\"default\":0,\"kind\":null,\"name\":\"close_modal\"}]},{\"extends\":null,\"module\":null,\"name\":\"MaterialTemplateActions1\",\"overrides\":[],\"properties\":[{\"default\":0,\"kind\":null,\"name\":\"open_modal\"},{\"default\":0,\"kind\":null,\"name\":\"close_modal\"}]}],\"roots\":{\"references\":[{\"attributes\":{\"below\":[{\"id\":\"56162\"}],\"center\":[{\"id\":\"56165\"},{\"id\":\"56169\"},{\"id\":\"56202\"}],\"left\":[{\"id\":\"56166\"}],\"renderers\":[{\"id\":\"56190\"},{\"id\":\"56208\"},{\"id\":\"56214\"},{\"id\":\"56235\"}],\"title\":{\"id\":\"56152\"},\"toolbar\":{\"id\":\"56178\"},\"x_range\":{\"id\":\"56154\"},\"x_scale\":{\"id\":\"56158\"},\"y_range\":{\"id\":\"56156\"},\"y_scale\":{\"id\":\"56160\"}},\"id\":\"56151\",\"subtype\":\"Figure\",\"type\":\"Plot\"},{\"attributes\":{\"coordinates\":null,\"group\":null,\"text\":\"Pause vs. Execution Times (Smaller Is Better)\"},\"id\":\"56152\",\"type\":\"Title\"},{\"attributes\":{},\"id\":\"56167\",\"type\":\"BasicTicker\"},{\"attributes\":{\"label\":{\"value\":\"No Ray\"},\"renderers\":[{\"id\":\"56190\"}]},\"id\":\"56203\",\"type\":\"LegendItem\"},{\"attributes\":{\"axis\":{\"id\":\"56162\"},\"coordinates\":null,\"grid_line_alpha\":0.3,\"group\":null,\"ticker\":null},\"id\":\"56165\",\"type\":\"Grid\"},{\"attributes\":{\"axis\":{\"id\":\"56166\"},\"coordinates\":null,\"dimension\":1,\"grid_line_alpha\":0.3,\"group\":null,\"ticker\":null},\"id\":\"56169\",\"type\":\"Grid\"},{\"attributes\":{},\"id\":\"56197\",\"type\":\"BasicTickFormatter\"},{\"attributes\":{\"line_alpha\":0.1,\"line_color\":\"#A6CEE3\",\"x\":{\"field\":\"x\"},\"y\":{\"field\":\"y\"}},\"id\":\"56188\",\"type\":\"Line\"},{\"attributes\":{},\"id\":\"56195\",\"type\":\"AllLabels\"},{\"attributes\":{\"bottom_units\":\"screen\",\"coordinates\":null,\"fill_alpha\":0.5,\"fill_color\":\"lightgrey\",\"group\":null,\"left_units\":\"screen\",\"level\":\"overlay\",\"line_alpha\":1.0,\"line_color\":\"black\",\"line_dash\":[4,4],\"line_width\":2,\"right_units\":\"screen\",\"syncable\":false,\"top_units\":\"screen\"},\"id\":\"56176\",\"type\":\"BoxAnnotation\"},{\"attributes\":{\"source\":{\"id\":\"56186\"}},\"id\":\"56191\",\"type\":\"CDSView\"},{\"attributes\":{\"data\":{\"x\":[0.0,0.01,0.02,0.03,0.04,0.05,0.06,0.07,0.08,0.09,0.1],\"y\":[0.7028219699859619,0.821807861328125,0.9280538558959961,1.063521146774292,1.1394438743591309,1.2689199447631836,1.3623707294464111,1.488724946975708,1.6124961376190186,1.6281332969665527,1.7306528091430664]},\"selected\":{\"id\":\"56228\"},\"selection_policy\":{\"id\":\"56227\"}},\"id\":\"56210\",\"type\":\"ColumnDataSource\"},{\"attributes\":{},\"id\":\"56200\",\"type\":\"Selection\"},{\"attributes\":{},\"id\":\"56154\",\"type\":\"DataRange1d\"},{\"attributes\":{\"coordinates\":null,\"data_source\":{\"id\":\"56204\"},\"glyph\":{\"id\":\"56205\"},\"group\":null,\"hover_glyph\":null,\"muted_glyph\":{\"id\":\"56207\"},\"nonselection_glyph\":{\"id\":\"56206\"},\"view\":{\"id\":\"56209\"}},\"id\":\"56208\",\"type\":\"GlyphRenderer\"},{\"attributes\":{\"line_color\":\"#A6CEE3\",\"x\":{\"field\":\"x\"},\"y\":{\"field\":\"y\"}},\"id\":\"56187\",\"type\":\"Line\"},{\"attributes\":{},\"id\":\"56174\",\"type\":\"ResetTool\"},{\"attributes\":{\"coordinates\":null,\"data_source\":{\"id\":\"56231\"},\"glyph\":{\"id\":\"56232\"},\"group\":null,\"hover_glyph\":null,\"muted_glyph\":{\"id\":\"56234\"},\"nonselection_glyph\":{\"id\":\"56233\"},\"view\":{\"id\":\"56236\"}},\"id\":\"56235\",\"type\":\"GlyphRenderer\"},{\"attributes\":{\"source\":{\"id\":\"56210\"}},\"id\":\"56215\",\"type\":\"CDSView\"},{\"attributes\":{},\"id\":\"56163\",\"type\":\"BasicTicker\"},{\"attributes\":{\"coordinates\":null,\"data_source\":{\"id\":\"56210\"},\"glyph\":{\"id\":\"56211\"},\"group\":null,\"hover_glyph\":null,\"muted_glyph\":{\"id\":\"56213\"},\"name\":\"Ray\",\"nonselection_glyph\":{\"id\":\"56212\"},\"view\":{\"id\":\"56215\"}},\"id\":\"56214\",\"type\":\"GlyphRenderer\"},{\"attributes\":{\"fill_alpha\":{\"value\":0.1},\"fill_color\":{\"value\":\"#B2DF8A\"},\"hatch_alpha\":{\"value\":0.1},\"hatch_color\":{\"value\":\"#B2DF8A\"},\"line_alpha\":{\"value\":0.1},\"line_color\":{\"value\":\"#B2DF8A\"},\"marker\":{\"value\":\"square\"},\"x\":{\"field\":\"x\"},\"y\":{\"field\":\"y\"}},\"id\":\"56233\",\"type\":\"Scatter\"},{\"attributes\":{},\"id\":\"56171\",\"type\":\"WheelZoomTool\"},{\"attributes\":{},\"id\":\"56175\",\"type\":\"HelpTool\"},{\"attributes\":{},\"id\":\"56158\",\"type\":\"LinearScale\"},{\"attributes\":{\"axis_label\":\"Time\",\"coordinates\":null,\"formatter\":{\"id\":\"56194\"},\"group\":null,\"major_label_policy\":{\"id\":\"56195\"},\"ticker\":{\"id\":\"56167\"}},\"id\":\"56166\",\"type\":\"LinearAxis\"},{\"attributes\":{\"data\":{\"x\":[0.0,0.01,0.02,0.03,0.04,0.05,0.06,0.07,0.08,0.09,0.1],\"y\":[0.7028219699859619,0.821807861328125,0.9280538558959961,1.063521146774292,1.1394438743591309,1.2689199447631836,1.3623707294464111,1.488724946975708,1.6124961376190186,1.6281332969665527,1.7306528091430664]},\"selected\":{\"id\":\"56251\"},\"selection_policy\":{\"id\":\"56250\"}},\"id\":\"56231\",\"type\":\"ColumnDataSource\"},{\"attributes\":{},\"id\":\"56227\",\"type\":\"UnionRenderers\"},{\"attributes\":{\"fill_color\":{\"value\":\"#A6CEE3\"},\"hatch_color\":{\"value\":\"#A6CEE3\"},\"line_color\":{\"value\":\"#A6CEE3\"},\"x\":{\"field\":\"x\"},\"y\":{\"field\":\"y\"}},\"id\":\"56205\",\"type\":\"Circle\"},{\"attributes\":{\"label\":{\"value\":\"Ray\"},\"renderers\":[{\"id\":\"56214\"}]},\"id\":\"56230\",\"type\":\"LegendItem\"},{\"attributes\":{\"line_alpha\":0.1,\"line_color\":\"#B2DF8A\",\"x\":{\"field\":\"x\"},\"y\":{\"field\":\"y\"}},\"id\":\"56212\",\"type\":\"Line\"},{\"attributes\":{\"coordinates\":null,\"group\":null,\"items\":[{\"id\":\"56203\"},{\"id\":\"56230\"}],\"location\":\"top_left\"},\"id\":\"56202\",\"type\":\"Legend\"},{\"attributes\":{},\"id\":\"56199\",\"type\":\"UnionRenderers\"},{\"attributes\":{},\"id\":\"56170\",\"type\":\"PanTool\"},{\"attributes\":{},\"id\":\"56225\",\"type\":\"UnionRenderers\"},{\"attributes\":{\"coordinates\":null,\"data_source\":{\"id\":\"56186\"},\"glyph\":{\"id\":\"56187\"},\"group\":null,\"hover_glyph\":null,\"muted_glyph\":{\"id\":\"56189\"},\"name\":\"No Ray\",\"nonselection_glyph\":{\"id\":\"56188\"},\"view\":{\"id\":\"56191\"}},\"id\":\"56190\",\"type\":\"GlyphRenderer\"},{\"attributes\":{\"axis_label\":\"Pause\",\"coordinates\":null,\"formatter\":{\"id\":\"56197\"},\"group\":null,\"major_label_policy\":{\"id\":\"56198\"},\"ticker\":{\"id\":\"56163\"}},\"id\":\"56162\",\"type\":\"LinearAxis\"},{\"attributes\":{},\"id\":\"56228\",\"type\":\"Selection\"},{\"attributes\":{\"line_alpha\":0.2,\"line_color\":\"#A6CEE3\",\"x\":{\"field\":\"x\"},\"y\":{\"field\":\"y\"}},\"id\":\"56189\",\"type\":\"Line\"},{\"attributes\":{\"fill_alpha\":{\"value\":0.1},\"fill_color\":{\"value\":\"#A6CEE3\"},\"hatch_alpha\":{\"value\":0.1},\"hatch_color\":{\"value\":\"#A6CEE3\"},\"line_alpha\":{\"value\":0.1},\"line_color\":{\"value\":\"#A6CEE3\"},\"x\":{\"field\":\"x\"},\"y\":{\"field\":\"y\"}},\"id\":\"56206\",\"type\":\"Circle\"},{\"attributes\":{},\"id\":\"56156\",\"type\":\"DataRange1d\"},{\"attributes\":{\"source\":{\"id\":\"56231\"}},\"id\":\"56236\",\"type\":\"CDSView\"},{\"attributes\":{\"overlay\":{\"id\":\"56176\"}},\"id\":\"56172\",\"type\":\"BoxZoomTool\"},{\"attributes\":{},\"id\":\"56160\",\"type\":\"LinearScale\"},{\"attributes\":{\"data\":{\"x\":[0.0,0.01,0.02,0.03,0.04,0.05,0.06,0.07,0.08,0.09,0.1],\"y\":[0.00023484230041503906,0.12033891677856445,0.22483587265014648,0.32881879806518555,0.42238497734069824,0.5265750885009766,0.6301641464233398,0.7319538593292236,0.8293240070343018,0.9254698753356934,1.0130159854888916]},\"selected\":{\"id\":\"56226\"},\"selection_policy\":{\"id\":\"56225\"}},\"id\":\"56204\",\"type\":\"ColumnDataSource\"},{\"attributes\":{\"fill_alpha\":{\"value\":0.2},\"fill_color\":{\"value\":\"#B2DF8A\"},\"hatch_alpha\":{\"value\":0.2},\"hatch_color\":{\"value\":\"#B2DF8A\"},\"line_alpha\":{\"value\":0.2},\"line_color\":{\"value\":\"#B2DF8A\"},\"marker\":{\"value\":\"square\"},\"x\":{\"field\":\"x\"},\"y\":{\"field\":\"y\"}},\"id\":\"56234\",\"type\":\"Scatter\"},{\"attributes\":{},\"id\":\"56251\",\"type\":\"Selection\"},{\"attributes\":{\"fill_alpha\":{\"value\":0.2},\"fill_color\":{\"value\":\"#A6CEE3\"},\"hatch_alpha\":{\"value\":0.2},\"hatch_color\":{\"value\":\"#A6CEE3\"},\"line_alpha\":{\"value\":0.2},\"line_color\":{\"value\":\"#A6CEE3\"},\"x\":{\"field\":\"x\"},\"y\":{\"field\":\"y\"}},\"id\":\"56207\",\"type\":\"Circle\"},{\"attributes\":{\"fill_color\":{\"value\":\"#B2DF8A\"},\"hatch_color\":{\"value\":\"#B2DF8A\"},\"line_color\":{\"value\":\"#B2DF8A\"},\"marker\":{\"value\":\"square\"},\"x\":{\"field\":\"x\"},\"y\":{\"field\":\"y\"}},\"id\":\"56232\",\"type\":\"Scatter\"},{\"attributes\":{},\"id\":\"56198\",\"type\":\"AllLabels\"},{\"attributes\":{\"data\":{\"x\":[0.0,0.01,0.02,0.03,0.04,0.05,0.06,0.07,0.08,0.09,0.1],\"y\":[0.00023484230041503906,0.12033891677856445,0.22483587265014648,0.32881879806518555,0.42238497734069824,0.5265750885009766,0.6301641464233398,0.7319538593292236,0.8293240070343018,0.9254698753356934,1.0130159854888916]},\"selected\":{\"id\":\"56200\"},\"selection_policy\":{\"id\":\"56199\"}},\"id\":\"56186\",\"type\":\"ColumnDataSource\"},{\"attributes\":{\"source\":{\"id\":\"56204\"}},\"id\":\"56209\",\"type\":\"CDSView\"},{\"attributes\":{\"line_color\":\"#B2DF8A\",\"x\":{\"field\":\"x\"},\"y\":{\"field\":\"y\"}},\"id\":\"56211\",\"type\":\"Line\"},{\"attributes\":{\"callback\":null,\"tooltips\":[[\"name\",\"$name\"],[\"array size\",\"$x\"],[\"time\",\"$y\"]]},\"id\":\"56177\",\"type\":\"HoverTool\"},{\"attributes\":{},\"id\":\"56250\",\"type\":\"UnionRenderers\"},{\"attributes\":{\"tools\":[{\"id\":\"56170\"},{\"id\":\"56171\"},{\"id\":\"56172\"},{\"id\":\"56173\"},{\"id\":\"56174\"},{\"id\":\"56175\"},{\"id\":\"56177\"}]},\"id\":\"56178\",\"type\":\"Toolbar\"},{\"attributes\":{},\"id\":\"56226\",\"type\":\"Selection\"},{\"attributes\":{\"line_alpha\":0.2,\"line_color\":\"#B2DF8A\",\"x\":{\"field\":\"x\"},\"y\":{\"field\":\"y\"}},\"id\":\"56213\",\"type\":\"Line\"},{\"attributes\":{},\"id\":\"56173\",\"type\":\"SaveTool\"},{\"attributes\":{},\"id\":\"56194\",\"type\":\"BasicTickFormatter\"}],\"root_ids\":[\"56151\"]},\"title\":\"Bokeh Application\",\"version\":\"2.4.1\"}};\n",
       "  const render_items = [{\"docid\":\"2542d9be-8970-400e-9cd4-fb442c9aee89\",\"root_ids\":[\"56151\"],\"roots\":{\"56151\":\"c3d96146-1ede-4203-9364-3a99a53785b2\"}}];\n",
       "  root.Bokeh.embed.embed_items_notebook(docs_json, render_items);\n",
       "\n",
       "  }\n",
       "  if (root.Bokeh !== undefined) {\n",
       "    embed_document(root);\n",
       "  } else {\n",
       "    let attempts = 0;\n",
       "    const timer = setInterval(function(root) {\n",
       "      if (root.Bokeh !== undefined) {\n",
       "        clearInterval(timer);\n",
       "        embed_document(root);\n",
       "      } else {\n",
       "        attempts++;\n",
       "        if (attempts > 100) {\n",
       "          clearInterval(timer);\n",
       "          console.log(\"Bokeh: ERROR: Unable to run BokehJS code because BokehJS library is missing\");\n",
       "        }\n",
       "      }\n",
       "    }, 10, root)\n",
       "  }\n",
       "})(window);"
      ],
      "application/vnd.bokehjs_exec.v0+json": ""
     },
     "metadata": {
      "application/vnd.bokehjs_exec.v0+json": {
       "id": "56151"
      }
     },
     "output_type": "display_data"
    }
   ],
   "source": [
    "two_lines = two_lines_plot(\n",
    "    \"Pause vs. Execution Times (Smaller Is Better)\", 'Pause', 'Time', 'No Ray', 'Ray', \n",
    "    pauses, durations, pauses, ray_durations,\n",
    "    x_axis_type='linear', y_axis_type='linear')\n",
    "show(two_lines, plot_width=800, plot_height=400)"
   ]
  },
  {
   "cell_type": "markdown",
   "metadata": {},
   "source": [
    "(Can't see the plot? Click [here](../images/actor-trials.png) for a screen shot.)\n",
    "\n",
    "Once past zero pauses, the Ray overhead is constant. It doesn't grow with the pause time. Can you explain why it doesn't grow?"
   ]
  },
  {
   "cell_type": "markdown",
   "metadata": {},
   "source": [
    "Run the next cell when you are finished with this notebook:"
   ]
  },
  {
   "cell_type": "code",
   "execution_count": null,
   "metadata": {},
   "outputs": [],
   "source": [
    "ray.shutdown()  # \"Undo ray.init()\". Terminate all the processes started in this notebook."
   ]
  },
  {
   "cell_type": "markdown",
   "metadata": {},
   "source": [
    "The next lesson, [Why Ray?](03-Why-Ray.ipynb), takes a step back and explores the origin and motivations for Ray, and Ray's growing ecosystem of libraries and tools."
   ]
  }
 ],
 "metadata": {
  "kernelspec": {
   "display_name": "Python 3 (ipykernel)",
   "language": "python",
   "name": "python3"
  },
  "language_info": {
   "codemirror_mode": {
    "name": "ipython",
    "version": 3
   },
   "file_extension": ".py",
   "mimetype": "text/x-python",
   "name": "python",
   "nbconvert_exporter": "python",
   "pygments_lexer": "ipython3",
   "version": "3.7.10"
  },
  "toc": {
   "base_numbering": 1,
   "nav_menu": {},
   "number_sections": false,
   "sideBar": true,
   "skip_h1_title": false,
   "title_cell": "Table of Contents",
   "title_sidebar": "Contents",
   "toc_cell": false,
   "toc_position": {
    "height": "calc(100% - 180px)",
    "left": "10px",
    "top": "150px",
    "width": "382.391px"
   },
   "toc_section_display": true,
   "toc_window_display": true
  }
 },
 "nbformat": 4,
 "nbformat_minor": 4
}
