{
 "cells": [
  {
   "cell_type": "markdown",
   "metadata": {},
   "source": [
    "# Ray \"Crash Course\" Overview\n",
    "\n",
    "© 2019-2021, Anyscale. All Rights Reserved\n",
    "\n",
    "![Anyscale Academy](../images/AnyscaleAcademyLogo.png)\n",
    "\n",
    "## Join Us at Ray Summit 2020!\n",
    "\n",
    "Join us for the [_free_ Ray Summit 2021 virtual conference](https://www.anyscale.com/ray-summit-2021), June 22-24, 2021. We have an amazing lineup of luminar keynote speakers and breakout sessions on the Ray ecosystem, third-party Ray libraries, and applications of Ray in the real world.\n",
    "\n",
    "<a href=\"https://www.anyscale.com/ray-summit-2021\">\n",
    "<img src=\"../images/raysummit-horizontal-white-banner-full.png\"  width=\"800\" height=\"200\" alt=\"Ray Summit 2021\"/>\n",
    "</a>\n",
    "\n",
    "## About This Tutorial\n",
    "\n",
    "[Video introduction 🎥](https://youtu.be/UAUs8ATEjOo)\n",
    "\n",
    "This tutorial, part of [Anyscale Academy](https://anyscale.com/academy), provides a \"just the facts\" introduction to [Ray](https://ray.io), the system for scaling your applications from a laptop to a cluster. Here, we start with a hands on exploration of the core Ray API for distributed work loads:\n",
    "\n",
    "* Ray _tasks_: Distributed execution of _stateless_ Python functions.\n",
    "* Ray _actors_: Distributed execution of _stateful_ Python classes.\n",
    "\n",
    "Subsequent lessons explore the origin and goals for Ray, Ray replacement versions of several popular multiprocessing APIs, a Ray _parallel iterator_ API, the rest of the core [Ray](https://ray.io) API ([documentation](https://ray.readthedocs.io/en/latest/package-ref.html)), and working with Ray clusters using the `ray` command-line interface (CLI). Pick among those lessons according to your interests. \n",
    "\n",
    "> **Tips:**\n",
    ">\n",
    "> 1. See the instructions in the [README](../README.md) for setting up your environment to use this tutorial\n",
    "> 2. Having problems? See [Troubleshooting, Tips, and Tricks](../reference/Troubleshooting-Tips-Tricks.ipynb)\n",
    "> 3. Go [here](../Overview.ipynb) for an overview of all tutorials."
   ]
  },
  {
   "cell_type": "markdown",
   "metadata": {},
   "source": [
    "## Getting Help\n",
    "\n",
    "* The [#tutorial channel](https://ray-distributed.slack.com/archives/C011ML23W5B) on the [Ray Slack](https://ray-distributed.slack.com). [Click here](https://forms.gle/9TSdDYUgxYs8SA9e8) to join.\n",
    "* [Email](mailto:academy@anyscale.com)\n",
    "\n",
    "Find an issue? Please report it!\n",
    "\n",
    "* [GitHub issues](https://github.com/anyscale/academy/issues)"
   ]
  },
  {
   "cell_type": "markdown",
   "metadata": {},
   "source": [
    "## \"Crash Course\" Tutorial Guide\n",
    "\n",
    "| #  | Lesson (Notebook)                                         | Description                               |\n",
    "| :- | :-------------------------------------------------------- | :---------------------------------------- |\n",
    "| 00 | [Overview](00-Ray-Crash-Course-Overview.ipynb)            | A _table of contents_ for this tutorial.  |\n",
    "| 01 | [Ray Tasks](01-Ray-Tasks.ipynb)                           | Understanding how Ray converts normal Python functions into distributed _stateless tasks_. |\n",
    "| 02 | [Ray Actors](02-Ray-Actors.ipynb)                         | Understanding how Ray converts normal Python classes into distributed, _stateful actors_.  |\n",
    "| 03 | [Why Ray?](03-Why-Ray.ipynb)                              | Now that you've seen Ray in action, take a step back and explore the origin and motivations for Ray, and Ray's growing ecosystem of libraries and tools.  |\n",
    "| 04 | [Ray Multiprocessing](04-Ray-Multiprocessing.ipynb)       | Ray drop-in replacements for common parallelism APIs and integration with `asyncio`. |\n",
    "| 05 | [Ray Parallel Iterators](05-Ray-Parallel-Iterators.ipynb) | **As of Ray 1.7, `ray.util.iter` has been deprecated**. Don't run this notebook. A _parallel iterator_ API for simple data ingestion and processing. It can be thought of as syntactic sugar around Ray actors and `ray.wait` loops. |\n",
    "| 06 | [Exploring Ray API Calls](06-Exploring-Ray-API-Calls.ipynb) | The Ray API has other API calls for more advanced scenarios, which are surveyed in this optional lesson. Keyword arguments you can pass to the API calls already learned are explored. |\n",
    "| 07 | [Running Ray Clusters](07-Running-Ray-Clusters.ipynb)     | A brief look at the Ray CLI commands for running Ray clusters. |\n"
   ]
  },
  {
   "cell_type": "markdown",
   "metadata": {},
   "source": [
    "In addition, exercise solutions for this tutorial can be found [here](solutions/Ray-Crash-Course-Solutions.ipynb)."
   ]
  },
  {
   "cell_type": "markdown",
   "metadata": {},
   "source": [
    "\n",
    "#### Give Us Feedback!\n",
    "\n",
    "Let us know what you like and don't like about this reinforcement learning and Ray RLlib tutorial.\n",
    "\n",
    "* [Survey](https://forms.gle/PKYkFvrAf5M3jL3B8)"
   ]
  }
 ],
 "metadata": {
  "kernelspec": {
   "display_name": "Python 3 (ipykernel)",
   "language": "python",
   "name": "python3"
  },
  "language_info": {
   "codemirror_mode": {
    "name": "ipython",
    "version": 3
   },
   "file_extension": ".py",
   "mimetype": "text/x-python",
   "name": "python",
   "nbconvert_exporter": "python",
   "pygments_lexer": "ipython3",
   "version": "3.7.10"
  }
 },
 "nbformat": 4,
 "nbformat_minor": 4
}
